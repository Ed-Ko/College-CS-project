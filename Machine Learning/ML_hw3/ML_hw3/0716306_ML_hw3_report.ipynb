{
 "metadata": {
  "language_info": {
   "codemirror_mode": {
    "name": "ipython",
    "version": 3
   },
   "file_extension": ".py",
   "mimetype": "text/x-python",
   "name": "python",
   "nbconvert_exporter": "python",
   "pygments_lexer": "ipython3",
   "version": 3
  },
  "orig_nbformat": 2
 },
 "nbformat": 4,
 "nbformat_minor": 2,
 "cells": [
  {
   "source": [
    "# Linear Regression\n",
    "\n",
    "## 1. Data generation\n",
    "\n",
    "First I generated 1000 float numbers for x with uniform distribution with interval [-1.5,1.0), and then generate y with the fomula given in spec.\n",
    "\n",
    "## 2. Data preprocessing\n",
    "\n",
    "Here I generate 4 list for 4 linear regression model so I can produce the figure of each linear regression model easier.\n",
    "\n",
    "## 3. Model construction\n",
    "\n",
    "Because the X and y used to fit linear regression model is already done in data preprocessing, I just put these data into each linear regression model here.\n",
    "\n",
    "## 5. Result\n",
    "\n",
    "I put the weight of each linear regression model here with ascendent order (For example, 0.123 + 0.456 * x + 0.789 * x**2), but the LaTeX expression is shown in legend of the plot.\n",
    "The expected value of y(y hat) is printed directly\n",
    "\n",
    "\n",
    "# Logistic Regression\n",
    "\n",
    "## 1. Data generation & 2. Data preprocessing\n",
    "\n",
    "To produce dataset for Logistic regression model fitting, first I random choose 1 or 0 for 1000 times, then use fucntion in numpy to draw 1000 samples from multivariate normal distribution with mean set to corresponding y.\n",
    "\n",
    "## 3. Model construction\n",
    "\n",
    "Here I just use the data generated in 1. and 2. to fit the Logistic regression model\n",
    "\n",
    "## 5. Result\n",
    "\n",
    "The accuracy of Logistic regression model is printed directly.\n",
    "\n",
    "The model weight and corresponding terms is printed with LaTeX in the legend of the plot\n"
   ],
   "cell_type": "markdown",
   "metadata": {}
  }
 ]
}